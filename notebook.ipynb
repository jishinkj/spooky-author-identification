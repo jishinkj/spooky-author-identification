{
 "cells": [
  {
   "cell_type": "markdown",
   "metadata": {},
   "source": [
    "## Importing libraries"
   ]
  },
  {
   "cell_type": "code",
   "execution_count": 1,
   "metadata": {},
   "outputs": [],
   "source": [
    "import pandas as pd\n",
    "import numpy as np\n",
    "\n",
    "from nltk.corpus import stopwords\n",
    "from nltk.stem.wordnet import WordNetLemmatizer\n",
    "from nltk import word_tokenize\n",
    "import re\n",
    "\n",
    "from imblearn.over_sampling import RandomOverSampler\n",
    "from collections import Counter\n",
    "import matplotlib.pyplot as plt\n",
    "import seaborn as sns\n",
    "\n",
    "from sklearn.model_selection import train_test_split\n",
    "from sklearn.model_selection import GridSearchCV\n",
    "from sklearn.metrics import *   \n",
    "from sklearn.feature_extraction.text import TfidfVectorizer\n",
    "from sklearn.ensemble import RandomForestClassifier\n",
    "from sklearn.svm import SVC\n",
    "from sklearn.preprocessing import label_binarize\n",
    "\n",
    "from scipy import interp\n",
    "from itertools import cycle\n",
    "import pickle\n",
    "\n",
    "from time import time\n",
    "\n",
    "# Import the Classification class from classification_code_class.py file \n",
    "from classification_code_class import Classification"
   ]
  },
  {
   "cell_type": "markdown",
   "metadata": {},
   "source": [
    "## Load the datasets"
   ]
  },
  {
   "cell_type": "code",
   "execution_count": 2,
   "metadata": {},
   "outputs": [],
   "source": [
    "train = pd.read_csv(\"data/train.csv\")\n",
    "test = pd.read_csv(\"data/test.csv\")"
   ]
  },
  {
   "cell_type": "markdown",
   "metadata": {},
   "source": [
    "## Dimensions of both the datasets"
   ]
  },
  {
   "cell_type": "code",
   "execution_count": 4,
   "metadata": {},
   "outputs": [
    {
     "name": "stdout",
     "output_type": "stream",
     "text": [
      "Dimensions of the train set (19579, 3)\n",
      "Dimensions of the test set (8392, 2)\n"
     ]
    }
   ],
   "source": [
    "print(\"Dimensions of the train set\", train.shape )\n",
    "print(\"Dimensions of the test set\",test.shape )"
   ]
  },
  {
   "cell_type": "markdown",
   "metadata": {},
   "source": [
    "## Store response to a variable and concat train and test\n",
    "\n",
    "Store the response variable to a variable, say `y_true` and then drop it from the train set. This is done so that there won't be any dimension mismatch when we concatenate the train and test sets. "
   ]
  },
  {
   "cell_type": "code",
   "execution_count": null,
   "metadata": {},
   "outputs": [],
   "source": [
    "train_df = train.iloc[:,:-1]\n",
    "y_true = train.iloc[:,-1]\n",
    "\n",
    "df = pd.concat([train_df, test], axis = 0)\n",
    "\n",
    "#%% CHECK FOR MISSING VALUES AND DROP THEM\n",
    "\n",
    "df.isnull().sum()\n",
    "# nomissing values in either of the datasets"
   ]
  },
  {
   "cell_type": "markdown",
   "metadata": {},
   "source": [
    "## Check for Class Imbalance"
   ]
  },
  {
   "cell_type": "code",
   "execution_count": 16,
   "metadata": {},
   "outputs": [
    {
     "name": "stdout",
     "output_type": "stream",
     "text": [
      "Number of records in each class is\n",
      "EAP    7900\n",
      "MWS    6044\n",
      "HPL    5635\n",
      "Name: author, dtype: int64\n",
      "\n",
      "Percentage distribution of each class is\n",
      "EAP    40.349354\n",
      "MWS    30.869809\n",
      "HPL    28.780837\n",
      "Name: author, dtype: float64\n"
     ]
    }
   ],
   "source": [
    "print(\"Number of records in each class is\\n\"+str(train['author'].value_counts()))\n",
    "\n",
    "# To check the percentage of each class \n",
    "print(\"\\nPercentage distribution of each class is\\n\"+str(100*train['author'].value_counts()/len(train.author)))"
   ]
  },
  {
   "cell_type": "markdown",
   "metadata": {},
   "source": [
    "## Visualize class imbalance"
   ]
  },
  {
   "cell_type": "code",
   "execution_count": 18,
   "metadata": {},
   "outputs": [
    {
     "data": {
      "text/plain": [
       "<matplotlib.axes._subplots.AxesSubplot at 0x2bbd8903a58>"
      ]
     },
     "execution_count": 18,
     "metadata": {},
     "output_type": "execute_result"
    },
    {
     "data": {
      "image/png": "[encoded data removed]",
      "text/plain": [
       "<Figure size 432x288 with 1 Axes>"
      ]
     },
     "metadata": {},
     "output_type": "display_data"
    }
   ],
   "source": [
    "sns.countplot(train.author)"
   ]
  },
  {
   "cell_type": "code",
   "execution_count": null,
   "metadata": {},
   "outputs": [],
   "source": [
    "#%% Shuffling\n",
    "\n",
    "from sklearn.utils import shuffle\n",
    "df = shuffle(df, random_state = 7)\n",
    "\n",
    "#%% SEPARATE DATAFRAMES FOR EACH SENTIMENT\n",
    "\n",
    "#%% Generate Word Cloud for each of the authors, if relevant. Check other kernels\n",
    "\n",
    "# positivedf = df.loc[df[\"sentiment\"] == 'positive']\n",
    "# negativedf = df.loc[df[\"sentiment\"] == 'negative']\n",
    "# neutraldf = df.loc[df[\"sentiment\"] == 'neutral']"
   ]
  },
  {
   "cell_type": "markdown",
   "metadata": {},
   "source": [
    "## Stopwords and additions\n",
    "\n",
    "Explore NLTK's built-in Stopwords and make additions of some required words"
   ]
  },
  {
   "cell_type": "code",
   "execution_count": null,
   "metadata": {},
   "outputs": [],
   "source": [
    "builtinstopwords = stopwords.words('english')\n",
    "\n",
    "#words needed for sentiment analysis\n",
    "neededWords = ['mightn', \"mightn't\", 'mustn', \"mustn't\", 'needn', \"needn't\", \n",
    "                'shan', \"shan't\", 'shouldn', \"shouldn't\", 'wasn', \"wasn't\", 'weren', \"weren't\", \n",
    "                'won', \"won't\", 'wouldn', \"wouldn't\",'aren', \"aren't\", 'couldn', \"couldn't\", \n",
    "                'didn', \"didn't\", 'doesn', \"doesn't\", 'hadn', \"hadn't\", 'hasn', \"hasn't\", 'haven', \n",
    "                \"haven't\", 'isn', \"isn't\",'don', \"don't\", 'should', \"should've\", 'no', 'nor', 'not'] \n",
    "\n",
    "for word in neededWords:\n",
    "    if word in builtinstopwords: \n",
    "        builtinstopwords.remove(word)"
   ]
  },
  {
   "cell_type": "markdown",
   "metadata": {},
   "source": [
    "## Function to clean the text\n",
    "\n"
   ]
  },
  {
   "cell_type": "code",
   "execution_count": null,
   "metadata": {},
   "outputs": [],
   "source": [
    "# TODO - check the difference in time when lemmatizer is instantiated inside the clean function vs outside\n",
    "def clean(content):\n",
    "    '''Code to clean text'''\n",
    "    lm = WordNetLemmatizer()\n",
    "    temptext = re.sub('[^a-zA-Z]', ' ', str(content))\n",
    "    temptext = temptext.lower()\n",
    "    tokens = nltk.word_tokenize(temptext)\n",
    "    #tokens = [word for word in tokens if word not in set(builtinstopwords)] \n",
    "    cleanbody= [lm.lemmatize(word) for word in tokens if not word in set(builtinstopwords)]\n",
    "    return (str(cleanbody)[1:-1])\n",
    "\n",
    "df['cleaned']=df['text'].apply(lambda x : clean(x))\n",
    "df.reset_index(drop=True,inplace=True)"
   ]
  },
  {
   "cell_type": "markdown",
   "metadata": {},
   "source": []
  },
  {
   "cell_type": "code",
   "execution_count": null,
   "metadata": {},
   "outputs": [],
   "source": [
    "## Converting the cleaned text to vectors                          "
   ]
  },
  {
   "cell_type": "code",
   "execution_count": null,
   "metadata": {},
   "outputs": [],
   "source": [
    "# FIT THE TFIDF VECTORIZER AND PICKLE THE VOCAB\n",
    "\n",
    "#tfidf_obj = TfidfVectorizer(max_df=0.5,min_df=0.01,use_idf=True)\n",
    "tfidf_obj = TfidfVectorizer(max_features = 5000)\n",
    "X_train_tfidf = tfidf_obj.fit_transform(df.cleaned)"
   ]
  },
  {
   "cell_type": "code",
   "execution_count": null,
   "metadata": {},
   "outputs": [],
   "source": [
    "#%%\n",
    "\n",
    "# X_train_tfidf.shape\n",
    "\n",
    "# feature_list = tfidf_obj.vocabulary_\n",
    "# feature_list\n",
    "\n",
    "#%%\n",
    "#converting the array to a dataframe\n",
    "X_train_test = pd.DataFrame(X_train_tfidf.todense(), columns = tfidf_obj.get_feature_names())\n",
    "\n",
    "#y = df2['sentimentbinary']\n",
    "\n",
    "X = X_train_test.iloc[:train.shape[0],:]\n",
    "\n",
    "y = y_true\n",
    "\n",
    "test_df = X_train_test.iloc[train.shape[0]:,:]\n",
    "#%%\n",
    "\n",
    "# TODO - Convert binaryReplacement to dictionary from epiphany code \n",
    "def binaryReplacement(variable):\n",
    "    '''converting output categorical variable to numeric'''\n",
    "    if variable == 'EAP':\n",
    "        encoded_value = 0\n",
    "    elif variable == 'HPL':\n",
    "        encoded_value = 1\n",
    "    else:\n",
    "        encoded_value = 2\n",
    "    return (encoded_value)\n",
    "\n",
    "y = train['author'].apply(lambda x : binaryReplacement(x))\n",
    "\n",
    "#%%\n",
    "#del df, train, test, final_df, \n",
    "#%%\n",
    "\n",
    "#analysis(predictionwithsampling(RandomOverSampler,RandomForestClassifier()))\n",
    "\n",
    "#%% Instantiate a class object, create an instance called 'class_obj'\n",
    "from classification_code_class import Classification\n",
    "\n",
    "class_obj = Classification()\n",
    "class_obj.analysis(X, y, RandomOverSampler, RandomForestClassifier())\n",
    "class_obj.plot_roc()\n",
    "\n",
    "#%%\n",
    "param_grid = { \n",
    "   'n_estimators': [2, 5],\n",
    "   'criterion' : ['gini', 'entropy']\n",
    "}\n",
    "\n",
    "\n",
    "best_parameters = class_obj.grid_search(param_grid) # returns best parameter grid \n",
    "print(\"Best Parameters are :\", best_parameters)\n",
    "\n",
    "\n",
    "#%% Re-train the classifier with new hyper-parameters\n",
    "\n",
    "class_obj.analysis(X, y, RandomOverSampler, RandomForestClassifier())\n",
    "#class_obj.pickle_classifier()\n",
    "class_obj.plot_roc()\n",
    "\n"
   ]
  },
  {
   "cell_type": "markdown",
   "metadata": {},
   "source": [
    "Make predictions on the test set. We are expected to predict the probabilities for each row for each of the 3 authors (use `predict_proba` method)"
   ]
  },
  {
   "cell_type": "code",
   "execution_count": null,
   "metadata": {},
   "outputs": [],
   "source": [
    "y_pred_submission = class_obj._predict(test_df)"
   ]
  },
  {
   "cell_type": "markdown",
   "metadata": {},
   "source": [
    "## Build the submission dataframe and export to csv\n",
    "\n",
    "The final dataframe must have 4 columns - `id`, `EAP`, `HPL` and `MWS`.<br>\n",
    "`id` must contain the same ids in the test.csv file. "
   ]
  },
  {
   "cell_type": "code",
   "execution_count": null,
   "metadata": {},
   "outputs": [],
   "source": [
    "sub_df = pd.DataFrame()\n",
    "sub_df['id'] = test['id']\n",
    "sub_df['EAP'] = y_pred_submission[:,0]\n",
    "sub_df['HPL'] = y_pred_submission[:,1]\n",
    "sub_df['MWS'] = y_pred_submission[:,2]\n",
    "\n",
    "# sub_df.to_csv(\"submissions/v7.csv\", index = False, header=True)"
   ]
  }
 ],
 "metadata": {
  "kernelspec": {
   "display_name": "Python 3",
   "language": "python",
   "name": "python3"
  },
  "language_info": {
   "codemirror_mode": {
    "name": "ipython",
    "version": 3
   },
   "file_extension": ".py",
   "mimetype": "text/x-python",
   "name": "python",
   "nbconvert_exporter": "python",
   "pygments_lexer": "ipython3",
   "version": "3.6.5"
  }
 },
 "nbformat": 4,
 "nbformat_minor": 2
}
